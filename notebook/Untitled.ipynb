{
 "cells": [
  {
   "cell_type": "code",
   "execution_count": 50,
   "id": "0a690751",
   "metadata": {},
   "outputs": [],
   "source": [
    "geom_root = '/sharefs/baaihealth/yuancheng/rdkit_folder/qm9'\n",
    "import glob\n",
    "import os.path as osp\n",
    "all_files = sorted(glob.glob(osp.join(geom_root, '*.pickle')))\n",
    "import pickle\n",
    "import glob\n",
    "import numpy as np\n",
    "import random\n",
    "import torch\n",
    "# with open(all_files[-1], 'rb') as f:\n",
    "#     dic = pickle.load(f)\n",
    "# confs = dic['conformers']\n",
    "\n"
   ]
  },
  {
   "cell_type": "code",
   "execution_count": 51,
   "id": "f9594bfd",
   "metadata": {},
   "outputs": [
    {
     "name": "stderr",
     "output_type": "stream",
     "text": [
      "Using backend: pytorch\n"
     ]
    },
    {
     "ename": "NameError",
     "evalue": "name 'graph' is not defined",
     "output_type": "error",
     "traceback": [
      "\u001b[0;31m---------------------------------------------------------------------------\u001b[0m",
      "\u001b[0;31mNameError\u001b[0m                                 Traceback (most recent call last)",
      "\u001b[1;32m/home/sunyuancheng/molmae/notebook/Untitled.ipynb Cell 2\u001b[0m in \u001b[0;36m<cell line: 8>\u001b[0;34m()\u001b[0m\n\u001b[1;32m      <a href='vscode-notebook-cell://ssh-remote%2Bwudao.gpu/home/sunyuancheng/molmae/notebook/Untitled.ipynb#W1sdnNjb2RlLXJlbW90ZQ%3D%3D?line=4'>5</a>\u001b[0m     \u001b[39mreturn\u001b[39;00m rel_pos\n\u001b[1;32m      <a href='vscode-notebook-cell://ssh-remote%2Bwudao.gpu/home/sunyuancheng/molmae/notebook/Untitled.ipynb#W1sdnNjb2RlLXJlbW90ZQ%3D%3D?line=6'>7</a>\u001b[0m \u001b[39mimport\u001b[39;00m \u001b[39mdgl\u001b[39;00m\n\u001b[0;32m----> <a href='vscode-notebook-cell://ssh-remote%2Bwudao.gpu/home/sunyuancheng/molmae/notebook/Untitled.ipynb#W1sdnNjb2RlLXJlbW90ZQ%3D%3D?line=7'>8</a>\u001b[0m batched_graph \u001b[39m=\u001b[39m dgl\u001b[39m.\u001b[39mbatch([graph])\n\u001b[1;32m     <a href='vscode-notebook-cell://ssh-remote%2Bwudao.gpu/home/sunyuancheng/molmae/notebook/Untitled.ipynb#W1sdnNjb2RlLXJlbW90ZQ%3D%3D?line=9'>10</a>\u001b[0m batched_graph\u001b[39m.\u001b[39medata[\u001b[39m'\u001b[39m\u001b[39mrel_pos\u001b[39m\u001b[39m'\u001b[39m] \u001b[39m=\u001b[39m _get_relative_pos(batched_graph)\n\u001b[1;32m     <a href='vscode-notebook-cell://ssh-remote%2Bwudao.gpu/home/sunyuancheng/molmae/notebook/Untitled.ipynb#W1sdnNjb2RlLXJlbW90ZQ%3D%3D?line=10'>11</a>\u001b[0m edge_feats \u001b[39m=\u001b[39m {\u001b[39m'\u001b[39m\u001b[39m0\u001b[39m\u001b[39m'\u001b[39m: batched_graph\u001b[39m.\u001b[39medata[\u001b[39m'\u001b[39m\u001b[39medge_attr\u001b[39m\u001b[39m'\u001b[39m][\u001b[39m.\u001b[39m\u001b[39m.\u001b[39m\u001b[39m.\u001b[39m, \u001b[39mNone\u001b[39;00m]}\n",
      "\u001b[0;31mNameError\u001b[0m: name 'graph' is not defined"
     ]
    }
   ],
   "source": [
    "def _get_relative_pos(qm9_graph):\n",
    "    x = qm9_graph.ndata['pos']\n",
    "    src, dst = qm9_graph.edges()\n",
    "    rel_pos = x[dst] - x[src]\n",
    "    return rel_pos\n",
    "\n",
    "import dgl\n",
    "batched_graph = dgl.batch([graph])\n",
    "\n",
    "batched_graph.edata['rel_pos'] = _get_relative_pos(batched_graph)\n",
    "edge_feats = {'0': batched_graph.edata['edge_attr'][..., None]}\n",
    "node_feats = {'0': batched_graph.ndata['attr'][:, :, None]}\n",
    "\n",
    "# return batched_graph, node_feats, edge_feats, targets\n"
   ]
  },
  {
   "cell_type": "code",
   "execution_count": null,
   "id": "f19f4879",
   "metadata": {},
   "outputs": [],
   "source": [
    "from se3 import SE3Transformer, SE3TransformerPooled\n",
    "from se3 import Fiber\n",
    "\n",
    "num_degrees=4\n",
    "num_channels=32\n",
    "\n",
    "num_layers=7\n",
    "num_heads=8\n",
    "channels_div=2\n",
    "norm=True\n",
    "use_layer_norm=True\n",
    "low_memory=False\n",
    "\n",
    "\n",
    "toymodel = SE3Transformer(\n",
    "    fiber_in=Fiber({0: 9}),\n",
    "    fiber_hidden=Fiber.create(num_degrees, num_channels),\n",
    "    fiber_out=Fiber({0: num_degrees * num_channels}),\n",
    "    fiber_edge=Fiber({0: 3}),\n",
    "    tensor_cores=True,\n",
    "    num_layers=num_layers,\n",
    "    num_heads=num_heads,\n",
    "    channels_div=channels_div,\n",
    "    norm=norm,\n",
    "    use_layer_norm=use_layer_norm,\n",
    "    low_memory=low_memory\n",
    ")\n",
    "\n",
    "\n",
    "toymodel_pooled = SE3Transformer(\n",
    "    fiber_in=Fiber({0: 9}),\n",
    "    fiber_hidden=Fiber.create(num_degrees, num_channels),\n",
    "    fiber_out=Fiber({0: num_degrees * num_channels}),\n",
    "    fiber_edge=Fiber({0: 3}),\n",
    "    tensor_cores=True,\n",
    "    num_layers=num_layers,\n",
    "    num_heads=num_heads,\n",
    "    channels_div=channels_div,\n",
    "    norm=norm,\n",
    "    use_layer_norm=use_layer_norm,\n",
    "    low_memory=low_memory,\n",
    "    pooling='avg',\n",
    "    return_type=1\n",
    ")"
   ]
  },
  {
   "cell_type": "code",
   "execution_count": null,
   "id": "8ec1b3a4",
   "metadata": {},
   "outputs": [],
   "source": [
    "res = toymodel.forward(graph=batched_graph, node_feats=node_feats, edge_feats=edge_feats, basis=None)\n"
   ]
  },
  {
   "cell_type": "code",
   "execution_count": 12,
   "id": "bc6e94e6",
   "metadata": {},
   "outputs": [],
   "source": [
    "import torch\n",
    "\n",
    "angle_mask_ref = torch.LongTensor([[0, 0, 0, 0, 0, 0],\n",
    "                                   [0, 0, 0, 0, 0, 0],\n",
    "                                   [1, 0, 0, 0, 0, 0],\n",
    "                                   [1, 1, 1, 0, 0, 0],\n",
    "                                   [1, 1, 1, 1, 1, 1]])\n",
    "\n",
    "\n",
    "angle_combos = torch.LongTensor([[0, 1],\n",
    "                                 [0, 2],\n",
    "                                 [1, 2],\n",
    "                                 [0, 3],\n",
    "                                 [1, 3],\n",
    "                                 [2, 3]])\n",
    "\n",
    "\n",
    "mask = torch.tensor([0,1,1,1,1,1,1,0,0,0,0,0,0,0,1,0,1,0,1,0,1,0,1,0,1,0,1,0,0,1,1,0,0,0,1,1,1,0,1,0]).view([-1,4])\n",
    "coords = torch.rand([16,6,4,10,3])\n",
    "all_possible_combos = coords[:, :, angle_combos]\n",
    "v_a, v_b = all_possible_combos.split(1, dim=3) \n",
    "angle_mask = angle_mask_ref[mask.sum(dim=1).long()]\n",
    "\n"
   ]
  },
  {
   "cell_type": "code",
   "execution_count": 17,
   "id": "6a2e6cab",
   "metadata": {},
   "outputs": [],
   "source": [
    "pos = torch.randn(100, 3)\n",
    "local_coords = torch.zeros(150, 4, 3)\n",
    "for i, n in enumerate(local_coords):\n",
    "    if i >= 100:\n",
    "        i = 99\n",
    "    local_coords[i,:] = pos[i]\n"
   ]
  },
  {
   "cell_type": "code",
   "execution_count": 49,
   "id": "36335449",
   "metadata": {},
   "outputs": [
    {
     "name": "stdout",
     "output_type": "stream",
     "text": [
      "torch.Size([32, 6, 6, 10, 3])\n"
     ]
    },
    {
     "ename": "IndexError",
     "evalue": "index 7 is out of bounds for dimension 0 with size 5",
     "output_type": "error",
     "traceback": [
      "\u001b[0;31m---------------------------------------------------------------------------\u001b[0m",
      "\u001b[0;31mIndexError\u001b[0m                                Traceback (most recent call last)",
      "\u001b[1;32m/home/sunyuancheng/molmae/notebook/Untitled.ipynb Cell 7\u001b[0m in \u001b[0;36m<cell line: 8>\u001b[0;34m()\u001b[0m\n\u001b[1;32m      <a href='vscode-notebook-cell://ssh-remote%2Bwudao.gpu/home/sunyuancheng/molmae/notebook/Untitled.ipynb#W5sdnNjb2RlLXJlbW90ZQ%3D%3D?line=5'>6</a>\u001b[0m v_a, v_b \u001b[39m=\u001b[39m all_possible_combos\u001b[39m.\u001b[39msplit(\u001b[39m1\u001b[39m, dim\u001b[39m=\u001b[39m\u001b[39m3\u001b[39m)  \u001b[39m# does one of these need to be negative?\u001b[39;00m\n\u001b[1;32m      <a href='vscode-notebook-cell://ssh-remote%2Bwudao.gpu/home/sunyuancheng/molmae/notebook/Untitled.ipynb#W5sdnNjb2RlLXJlbW90ZQ%3D%3D?line=6'>7</a>\u001b[0m \u001b[39mprint\u001b[39m(v_a\u001b[39m.\u001b[39msqueeze(\u001b[39m3\u001b[39m)\u001b[39m.\u001b[39mshape)\n\u001b[0;32m----> <a href='vscode-notebook-cell://ssh-remote%2Bwudao.gpu/home/sunyuancheng/molmae/notebook/Untitled.ipynb#W5sdnNjb2RlLXJlbW90ZQ%3D%3D?line=7'>8</a>\u001b[0m angle_mask \u001b[39m=\u001b[39m angle_mask_ref[mask\u001b[39m.\u001b[39;49msum(dim\u001b[39m=\u001b[39;49m\u001b[39m1\u001b[39;49m)\u001b[39m.\u001b[39;49mlong()]\n\u001b[1;32m      <a href='vscode-notebook-cell://ssh-remote%2Bwudao.gpu/home/sunyuancheng/molmae/notebook/Untitled.ipynb#W5sdnNjb2RlLXJlbW90ZQ%3D%3D?line=8'>9</a>\u001b[0m \u001b[39m# angles = batch_angle_between_vectors(v_a.squeeze(3), v_b.squeeze(3)) * angle_mask.unsqueeze(-1).unsqueeze(-1)\u001b[39;00m\n\u001b[1;32m     <a href='vscode-notebook-cell://ssh-remote%2Bwudao.gpu/home/sunyuancheng/molmae/notebook/Untitled.ipynb#W5sdnNjb2RlLXJlbW90ZQ%3D%3D?line=9'>10</a>\u001b[0m \u001b[39mprint\u001b[39m(batch_angle_between_vectors(v_a\u001b[39m.\u001b[39msqueeze(\u001b[39m3\u001b[39m), v_b\u001b[39m.\u001b[39msqueeze(\u001b[39m3\u001b[39m))\u001b[39m.\u001b[39mshape)\n",
      "\u001b[0;31mIndexError\u001b[0m: index 7 is out of bounds for dimension 0 with size 5"
     ]
    }
   ],
   "source": [
    "coords = torch.randn([32,6,4,10,3])\n",
    "all_possible_combos = coords[:,:, angle_combos]\n",
    "\n",
    "# print(coords.shape)\n",
    "# print(all_possible_combos.shape)\n",
    "v_a, v_b = all_possible_combos.split(1, dim=3)  # does one of these need to be negative?\n",
    "print(v_a.squeeze(3).shape)\n",
    "angle_mask = angle_mask_ref[mask.sum(dim=1).long()]\n",
    "# angles = batch_angle_between_vectors(v_a.squeeze(3), v_b.squeeze(3)) * angle_mask.unsqueeze(-1).unsqueeze(-1)\n",
    "print(batch_angle_between_vectors(v_a.squeeze(3), v_b.squeeze(3)).shape)\n",
    "print(angle_mask.unsqueeze(-1).unsqueeze(-1).shape)\n",
    "print(angle_mask)"
   ]
  },
  {
   "cell_type": "code",
   "execution_count": 41,
   "id": "89987a1e",
   "metadata": {},
   "outputs": [
    {
     "name": "stdout",
     "output_type": "stream",
     "text": [
      "torch.Size([32, 6])\n",
      "torch.Size([10, 6])\n"
     ]
    }
   ],
   "source": [
    "qm_coor = torch.rand(32,4,3)\n",
    "qm_coor_all = qm_coor[:,  angle_combos]\n",
    "# print(qm_coor_all.shape)\n",
    "v_a, v_b = qm_coor_all.split(1, dim=2)\n",
    "angle_mask = angle_mask_ref[mask.sum(dim=1).long()]\n",
    "    # angles = batch_angle_between_vectors(v_a.squeeze(2), v_b.squeeze(2)) * angle_mask.unsqueeze(-1)\n",
    "print(batch_angle_between_vectors(v_a.squeeze(2), v_b.squeeze(2)).shape)\n",
    "print(angle_mask.shape)"
   ]
  },
  {
   "cell_type": "code",
   "execution_count": 37,
   "id": "1fbaddb1",
   "metadata": {},
   "outputs": [],
   "source": [
    "def batch_angle_between_vectors(a, b):\n",
    "    \"\"\"\n",
    "    Compute angle between two batches of input vectors\n",
    "    \"\"\"\n",
    "    inner_product = (a * b).sum(dim=-1)\n",
    "\n",
    "    # norms\n",
    "    a_norm = torch.linalg.norm(a, dim=-1)\n",
    "    b_norm = torch.linalg.norm(b, dim=-1)\n",
    "\n",
    "    # protect denominator during division\n",
    "    den = a_norm * b_norm + 1e-10\n",
    "    cos = inner_product / den\n",
    "\n",
    "    return cos\n"
   ]
  },
  {
   "cell_type": "code",
   "execution_count": 9,
   "id": "8ff20602",
   "metadata": {},
   "outputs": [
    {
     "data": {
      "text/plain": [
       "tensor([[0, 1, 1, 2],\n",
       "        [2, 2, 3, 3],\n",
       "        [3, 3, 4, 4],\n",
       "        [4, 4, 4, 5],\n",
       "        [5, 5, 5, 5],\n",
       "        [5, 6, 6, 6],\n",
       "        [6, 6, 6, 6],\n",
       "        [7, 7, 7, 7],\n",
       "        [7, 7, 7, 7]])"
      ]
     },
     "execution_count": 9,
     "metadata": {},
     "output_type": "execute_result"
    }
   ],
   "source": [
    "mask"
   ]
  },
  {
   "cell_type": "code",
   "execution_count": null,
   "id": "e9643b72",
   "metadata": {},
   "outputs": [],
   "source": []
  }
 ],
 "metadata": {
  "kernelspec": {
   "display_name": "Python 3.8.8 ('base')",
   "language": "python",
   "name": "python3"
  },
  "language_info": {
   "codemirror_mode": {
    "name": "ipython",
    "version": 3
   },
   "file_extension": ".py",
   "mimetype": "text/x-python",
   "name": "python",
   "nbconvert_exporter": "python",
   "pygments_lexer": "ipython3",
   "version": "3.8.8"
  },
  "vscode": {
   "interpreter": {
    "hash": "d4d1e4263499bec80672ea0156c357c1ee493ec2b1c70f0acce89fc37c4a6abe"
   }
  }
 },
 "nbformat": 4,
 "nbformat_minor": 5
}
